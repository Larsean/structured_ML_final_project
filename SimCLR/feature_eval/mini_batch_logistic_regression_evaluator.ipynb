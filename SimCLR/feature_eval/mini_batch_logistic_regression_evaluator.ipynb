{
  "cells": [
    {
      "cell_type": "markdown",
      "metadata": {
        "colab_type": "text",
        "id": "view-in-github"
      },
      "source": [
        "<a href=\"https://colab.research.google.com/github/sthalles/SimCLR/blob/simclr-refactor/feature_eval/mini_batch_logistic_regression_evaluator.ipynb\" target=\"_parent\"><img src=\"https://colab.research.google.com/assets/colab-badge.svg\" alt=\"Open In Colab\"/></a>"
      ]
    },
    {
      "cell_type": "code",
      "execution_count": 1,
      "metadata": {
        "id": "YUemQib7ZE4D"
      },
      "outputs": [],
      "source": [
        "# !pip install gdown\n",
        "import torch\n",
        "import sys\n",
        "import numpy as np\n",
        "import os\n",
        "import yaml\n",
        "import matplotlib.pyplot as plt\n",
        "import torchvision"
      ]
    },
    {
      "cell_type": "code",
      "execution_count": 12,
      "metadata": {
        "id": "NOIJEui1ZziV"
      },
      "outputs": [],
      "source": [
        "def get_file_id_by_model(folder_name):\n",
        "  file_id = {'resnet18_100-epochs_stl10': '14_nH2FkyKbt61cieQDiSbBVNP8-gtwgF',\n",
        "             'resnet18_100-epochs_cifar10': '1lc2aoVtrAetGn0PnTkOyFzPCIucOJq7C',\n",
        "             'resnet50_50-epochs_stl10': '1ByTKAUsdm_X7tLcii6oAEl5qFRqRMZSu'}\n",
        "  return file_id.get(folder_name, \"Model not found.\")"
      ]
    },
    {
      "cell_type": "code",
      "execution_count": 13,
      "metadata": {
        "colab": {
          "base_uri": "https://localhost:8080/"
        },
        "id": "G7YMxsvEZMrX",
        "outputId": "59475430-69d2-45a2-b61b-ae755d5d6e88"
      },
      "outputs": [
        {
          "name": "stdout",
          "output_type": "stream",
          "text": [
            "resnet50_50-epochs_stl10 1ByTKAUsdm_X7tLcii6oAEl5qFRqRMZSu\n"
          ]
        }
      ],
      "source": [
        "folder_name = 'resnet50_50-epochs_stl10'\n",
        "file_id = get_file_id_by_model(folder_name)\n",
        "print(folder_name, file_id)"
      ]
    },
    {
      "cell_type": "code",
      "execution_count": 14,
      "metadata": {
        "colab": {
          "base_uri": "https://localhost:8080/"
        },
        "id": "PWZ8fet_YoJm",
        "outputId": "fbaeb858-221b-4d1b-dd90-001a6e713b75"
      },
      "outputs": [
        {
          "name": "stdout",
          "output_type": "stream",
          "text": [
            "checkpoint_0040.pth.tar\n",
            "config.yml\n",
            "events.out.tfevents.1610927742.4cb2c837708d.2694093.0\n",
            "resnet50_50-epochs_stl10.zip\n",
            "sample_data\n",
            "training.log\n"
          ]
        }
      ],
      "source": [
        "# download and extract model files\n",
        "os.system('gdown https://drive.google.com/uc?id={}'.format(file_id))\n",
        "os.system('unzip {}'.format(folder_name))\n",
        "!ls"
      ]
    },
    {
      "cell_type": "code",
      "execution_count": 3,
      "metadata": {
        "colab": {
          "base_uri": "https://localhost:8080/"
        },
        "id": "lDfbL3w_Z0Od",
        "outputId": "7532966e-1c4a-4641-c928-4cda14c53389"
      },
      "outputs": [
        {
          "name": "stdout",
          "output_type": "stream",
          "text": [
            "Using device: cuda\n"
          ]
        }
      ],
      "source": [
        "device = 'cuda' if torch.cuda.is_available() else 'cpu'\n",
        "print(\"Using device:\", device)"
      ]
    },
    {
      "cell_type": "code",
      "execution_count": 1,
      "metadata": {
        "id": "BfIPl0G6_RrT"
      },
      "outputs": [],
      "source": [
        "from torchvision import datasets, transforms\n",
        "from torch.utils.data import DataLoader\n",
        "\n",
        "def get_stl10_data_loaders(download, shuffle=False, batch_size=256):\n",
        "  train_dataset = datasets.STL10('../datasets', split='train', download=download,\n",
        "                                  transform=transforms.ToTensor())\n",
        "\n",
        "  train_loader = DataLoader(train_dataset, batch_size=batch_size,\n",
        "                            num_workers=0, drop_last=False, shuffle=shuffle)\n",
        "  \n",
        "  test_dataset = datasets.STL10('../datasets', split='test', download=download,\n",
        "                                  transform=transforms.ToTensor())\n",
        "\n",
        "  test_loader = DataLoader(test_dataset, batch_size=2*batch_size,\n",
        "                            num_workers=10, drop_last=False, shuffle=shuffle)\n",
        "  return train_loader, test_loader\n",
        "\n",
        "def get_cifar10_data_loaders(download, shuffle=False, batch_size=256):\n",
        "  train_dataset = datasets.CIFAR10('../datasets', train=True, download=download,\n",
        "                                  transform=transforms.ToTensor())\n",
        "\n",
        "  train_loader = DataLoader(train_dataset, batch_size=batch_size,\n",
        "                            num_workers=0, drop_last=False, shuffle=shuffle)\n",
        "  \n",
        "  test_dataset = datasets.CIFAR10('../datasets', train=False, download=download,\n",
        "                                  transform=transforms.ToTensor())\n",
        "\n",
        "  test_loader = DataLoader(test_dataset, batch_size=2*batch_size,\n",
        "                            num_workers=10, drop_last=False, shuffle=shuffle)\n",
        "  return train_loader, test_loader"
      ]
    },
    {
      "cell_type": "code",
      "execution_count": 29,
      "metadata": {
        "id": "6N8lYkbmDTaK"
      },
      "outputs": [
        {
          "data": {
            "text/plain": [
              "'resnet18'"
            ]
          },
          "execution_count": 29,
          "metadata": {},
          "output_type": "execute_result"
        }
      ],
      "source": [
        "with open(os.path.join('./config.yaml')) as file:\n",
        "  config = yaml.load(file, Loader=yaml.FullLoader)\n",
        "# config['arch'] = 'resnet18'\n",
        "config['arch']"
      ]
    },
    {
      "cell_type": "code",
      "execution_count": 32,
      "metadata": {
        "id": "a18lPD-tIle6"
      },
      "outputs": [],
      "source": [
        "if config['arch'] == 'resnet18':\n",
        "  model = torchvision.models.resnet18(weights=None, num_classes=10).to(device)\n",
        "elif config['arch'] == 'resnet50':\n",
        "  model = torchvision.models.resnet50(weights=None, num_classes=10).to(device)"
      ]
    },
    {
      "cell_type": "code",
      "execution_count": 31,
      "metadata": {
        "id": "4AIfgq41GuTT"
      },
      "outputs": [],
      "source": [
        "ckpt_dir = r'..\\runs\\Mar29_17-30-54_resnet18'\n",
        "checkpoint = torch.load(f'{ckpt_dir}/checkpoint_0100.pth.tar', map_location=device)\n",
        "state_dict = checkpoint['state_dict']\n",
        "\n",
        "for k in list(state_dict.keys()):\n",
        "\n",
        "  if k.startswith('backbone.'):\n",
        "    if k.startswith('backbone') and not k.startswith('backbone.fc'):\n",
        "      # remove prefix\n",
        "      state_dict[k[len(\"backbone.\"):]] = state_dict[k]\n",
        "  del state_dict[k]"
      ]
    },
    {
      "cell_type": "code",
      "execution_count": 33,
      "metadata": {
        "id": "VVjA83PPJYWl"
      },
      "outputs": [],
      "source": [
        "log = model.load_state_dict(state_dict, strict=False)\n",
        "assert log.missing_keys == ['fc.weight', 'fc.bias']"
      ]
    },
    {
      "cell_type": "code",
      "execution_count": 11,
      "metadata": {
        "colab": {
          "base_uri": "https://localhost:8080/",
          "height": 117,
          "referenced_widgets": [
            "149b9ce8fb68473a837a77431c12281a",
            "88cd3db2831e4c13a4a634709700d6b2",
            "a88c31d74f5c40a2b24bcff5a35d216c",
            "60c6150177694717a622936b830427b5",
            "dba019efadee4fdc8c799f309b9a7e70",
            "5901c2829a554c8ebbd5926610088041",
            "957362a11d174407979cf17012bf9208",
            "a4f82234388e4701a02a9f68a177193a"
          ]
        },
        "id": "_GC0a14uWRr6",
        "outputId": "4c2558db-921c-425e-f947-6cc746d8c749"
      },
      "outputs": [
        {
          "name": "stdout",
          "output_type": "stream",
          "text": [
            "Files already downloaded and verified\n",
            "Files already downloaded and verified\n",
            "Dataset: stl10\n"
          ]
        }
      ],
      "source": [
        "if config['dataset_name'] == 'cifar10':\n",
        "  train_loader, test_loader = get_cifar10_data_loaders(download=True)\n",
        "elif config['dataset_name'] == 'stl10':\n",
        "  train_loader, test_loader = get_stl10_data_loaders(download=True)\n",
        "print(\"Dataset:\", config['dataset_name'])"
      ]
    },
    {
      "cell_type": "code",
      "execution_count": 34,
      "metadata": {
        "id": "pYT_KsM0Mnnr"
      },
      "outputs": [],
      "source": [
        "# freeze all layers but the last fc\n",
        "for name, param in model.named_parameters():\n",
        "    if name not in ['fc.weight', 'fc.bias']:\n",
        "        param.requires_grad = False\n",
        "\n",
        "parameters = list(filter(lambda p: p.requires_grad, model.parameters()))\n",
        "assert len(parameters) == 2  # fc.weight, fc.bias"
      ]
    },
    {
      "cell_type": "code",
      "execution_count": 35,
      "metadata": {
        "id": "aPVh1S_eMRDU"
      },
      "outputs": [],
      "source": [
        "optimizer = torch.optim.Adam(model.parameters(), lr=3e-4, weight_decay=0.0008)\n",
        "criterion = torch.nn.CrossEntropyLoss().to(device)"
      ]
    },
    {
      "cell_type": "code",
      "execution_count": 14,
      "metadata": {
        "id": "edr6RhP2PdVq"
      },
      "outputs": [],
      "source": [
        "def accuracy(output, target, topk=(1,)):\n",
        "    \"\"\"Computes the accuracy over the k top predictions for the specified values of k\"\"\"\n",
        "    with torch.no_grad():\n",
        "        maxk = max(topk)\n",
        "        batch_size = target.size(0)\n",
        "\n",
        "        _, pred = output.topk(maxk, 1, True, True)\n",
        "        pred = pred.t()\n",
        "        correct = pred.eq(target.view(1, -1).expand_as(pred))\n",
        "\n",
        "        res = []\n",
        "        for k in topk:\n",
        "            correct_k = correct[:k].reshape(-1).float().sum(0, keepdim=True)\n",
        "            res.append(correct_k.mul_(100.0 / batch_size))\n",
        "        return res"
      ]
    },
    {
      "cell_type": "code",
      "execution_count": 36,
      "metadata": {
        "colab": {
          "base_uri": "https://localhost:8080/"
        },
        "id": "qOder0dAMI7X",
        "outputId": "5f723b91-5a5e-43eb-ca01-a9b5ae2f1346"
      },
      "outputs": [
        {
          "name": "stdout",
          "output_type": "stream",
          "text": [
            "Epoch 0\tTop1 Train accuracy 19.72426414489746\tTop1 Test accuracy: 32.52197265625\tTop5 test acc: 82.158203125\n",
            "Epoch 1\tTop1 Train accuracy 41.60271072387695\tTop1 Test accuracy: 47.24365234375\tTop5 test acc: 93.0029296875\n",
            "Epoch 2\tTop1 Train accuracy 51.19140625\tTop1 Test accuracy: 53.67431640625\tTop5 test acc: 95.44921875\n",
            "Epoch 3\tTop1 Train accuracy 56.06043243408203\tTop1 Test accuracy: 56.90673828125\tTop5 test acc: 96.1572265625\n",
            "Epoch 4\tTop1 Train accuracy 59.019989013671875\tTop1 Test accuracy: 58.8916015625\tTop5 test acc: 96.52099609375\n",
            "Epoch 5\tTop1 Train accuracy 60.6755485534668\tTop1 Test accuracy: 60.107421875\tTop5 test acc: 96.865234375\n",
            "Epoch 6\tTop1 Train accuracy 61.93819046020508\tTop1 Test accuracy: 60.96923828125\tTop5 test acc: 97.01904296875\n",
            "Epoch 7\tTop1 Train accuracy 62.77803421020508\tTop1 Test accuracy: 61.6357421875\tTop5 test acc: 97.26318359375\n",
            "Epoch 8\tTop1 Train accuracy 63.40303421020508\tTop1 Test accuracy: 62.20703125\tTop5 test acc: 97.3974609375\n",
            "Epoch 9\tTop1 Train accuracy 64.04756927490234\tTop1 Test accuracy: 62.71240234375\tTop5 test acc: 97.43408203125\n",
            "Epoch 10\tTop1 Train accuracy 64.6484375\tTop1 Test accuracy: 63.2763671875\tTop5 test acc: 97.5146484375\n",
            "Epoch 11\tTop1 Train accuracy 65.13671875\tTop1 Test accuracy: 63.6572265625\tTop5 test acc: 97.6123046875\n",
            "Epoch 12\tTop1 Train accuracy 65.8766098022461\tTop1 Test accuracy: 63.974609375\tTop5 test acc: 97.6513671875\n",
            "Epoch 13\tTop1 Train accuracy 66.32353210449219\tTop1 Test accuracy: 64.4287109375\tTop5 test acc: 97.724609375\n",
            "Epoch 14\tTop1 Train accuracy 66.75092315673828\tTop1 Test accuracy: 64.931640625\tTop5 test acc: 97.7734375\n",
            "Epoch 15\tTop1 Train accuracy 66.88764190673828\tTop1 Test accuracy: 65.37353515625\tTop5 test acc: 97.822265625\n",
            "Epoch 16\tTop1 Train accuracy 67.15877532958984\tTop1 Test accuracy: 65.66650390625\tTop5 test acc: 97.85400390625\n",
            "Epoch 17\tTop1 Train accuracy 67.48621368408203\tTop1 Test accuracy: 65.92529296875\tTop5 test acc: 97.90283203125\n",
            "Epoch 18\tTop1 Train accuracy 67.83777618408203\tTop1 Test accuracy: 66.11328125\tTop5 test acc: 97.939453125\n",
            "Epoch 19\tTop1 Train accuracy 68.20886993408203\tTop1 Test accuracy: 66.23046875\tTop5 test acc: 97.92724609375\n",
            "Epoch 20\tTop1 Train accuracy 68.46277618408203\tTop1 Test accuracy: 66.4208984375\tTop5 test acc: 97.939453125\n",
            "Epoch 21\tTop1 Train accuracy 68.66039276123047\tTop1 Test accuracy: 66.5625\tTop5 test acc: 97.9638671875\n",
            "Epoch 22\tTop1 Train accuracy 68.97058868408203\tTop1 Test accuracy: 66.7333984375\tTop5 test acc: 98.0078125\n",
            "Epoch 23\tTop1 Train accuracy 69.24402618408203\tTop1 Test accuracy: 66.8505859375\tTop5 test acc: 98.0322265625\n",
            "Epoch 24\tTop1 Train accuracy 69.38074493408203\tTop1 Test accuracy: 66.93603515625\tTop5 test acc: 98.0810546875\n",
            "Epoch 25\tTop1 Train accuracy 69.59558868408203\tTop1 Test accuracy: 67.10693359375\tTop5 test acc: 98.10546875\n",
            "Epoch 26\tTop1 Train accuracy 69.84949493408203\tTop1 Test accuracy: 67.19970703125\tTop5 test acc: 98.10546875\n",
            "Epoch 27\tTop1 Train accuracy 70.04480743408203\tTop1 Test accuracy: 67.24365234375\tTop5 test acc: 98.10546875\n",
            "Epoch 28\tTop1 Train accuracy 70.12293243408203\tTop1 Test accuracy: 67.3046875\tTop5 test acc: 98.09326171875\n",
            "Epoch 29\tTop1 Train accuracy 70.14246368408203\tTop1 Test accuracy: 67.4755859375\tTop5 test acc: 98.0810546875\n",
            "Epoch 30\tTop1 Train accuracy 70.35730743408203\tTop1 Test accuracy: 67.58056640625\tTop5 test acc: 98.10546875\n",
            "Epoch 31\tTop1 Train accuracy 70.53308868408203\tTop1 Test accuracy: 67.58056640625\tTop5 test acc: 98.1103515625\n",
            "Epoch 32\tTop1 Train accuracy 70.78469848632812\tTop1 Test accuracy: 67.6904296875\tTop5 test acc: 98.12255859375\n",
            "Epoch 33\tTop1 Train accuracy 70.90188598632812\tTop1 Test accuracy: 67.84423828125\tTop5 test acc: 98.17138671875\n",
            "Epoch 34\tTop1 Train accuracy 71.17302703857422\tTop1 Test accuracy: 67.91748046875\tTop5 test acc: 98.17138671875\n",
            "Epoch 35\tTop1 Train accuracy 71.29021453857422\tTop1 Test accuracy: 68.02734375\tTop5 test acc: 98.17138671875\n",
            "Epoch 36\tTop1 Train accuracy 71.38787078857422\tTop1 Test accuracy: 68.0029296875\tTop5 test acc: 98.17138671875\n",
            "Epoch 37\tTop1 Train accuracy 71.48552703857422\tTop1 Test accuracy: 68.0712890625\tTop5 test acc: 98.1591796875\n",
            "Epoch 38\tTop1 Train accuracy 71.56365203857422\tTop1 Test accuracy: 68.10791015625\tTop5 test acc: 98.18359375\n",
            "Epoch 39\tTop1 Train accuracy 71.71990203857422\tTop1 Test accuracy: 68.18115234375\tTop5 test acc: 98.19580078125\n",
            "Epoch 40\tTop1 Train accuracy 71.79802703857422\tTop1 Test accuracy: 68.212890625\tTop5 test acc: 98.18359375\n",
            "Epoch 41\tTop1 Train accuracy 71.89568328857422\tTop1 Test accuracy: 68.29833984375\tTop5 test acc: 98.17138671875\n",
            "Epoch 42\tTop1 Train accuracy 71.99333953857422\tTop1 Test accuracy: 68.29833984375\tTop5 test acc: 98.17138671875\n",
            "Epoch 43\tTop1 Train accuracy 72.09099578857422\tTop1 Test accuracy: 68.408203125\tTop5 test acc: 98.18359375\n",
            "Epoch 44\tTop1 Train accuracy 72.11052703857422\tTop1 Test accuracy: 68.505859375\tTop5 test acc: 98.19580078125\n",
            "Epoch 45\tTop1 Train accuracy 72.18635559082031\tTop1 Test accuracy: 68.65234375\tTop5 test acc: 98.18359375\n",
            "Epoch 46\tTop1 Train accuracy 72.28401184082031\tTop1 Test accuracy: 68.6767578125\tTop5 test acc: 98.2080078125\n",
            "Epoch 47\tTop1 Train accuracy 72.36213684082031\tTop1 Test accuracy: 68.73779296875\tTop5 test acc: 98.22021484375\n",
            "Epoch 48\tTop1 Train accuracy 72.47932434082031\tTop1 Test accuracy: 68.85986328125\tTop5 test acc: 98.232421875\n",
            "Epoch 49\tTop1 Train accuracy 72.63557434082031\tTop1 Test accuracy: 68.984375\tTop5 test acc: 98.24462890625\n",
            "Epoch 50\tTop1 Train accuracy 72.67463684082031\tTop1 Test accuracy: 69.04541015625\tTop5 test acc: 98.22021484375\n",
            "Epoch 51\tTop1 Train accuracy 72.69416809082031\tTop1 Test accuracy: 69.09423828125\tTop5 test acc: 98.232421875\n",
            "Epoch 52\tTop1 Train accuracy 72.78952026367188\tTop1 Test accuracy: 69.14306640625\tTop5 test acc: 98.232421875\n",
            "Epoch 53\tTop1 Train accuracy 72.86534881591797\tTop1 Test accuracy: 69.14306640625\tTop5 test acc: 98.22021484375\n",
            "Epoch 54\tTop1 Train accuracy 72.94347381591797\tTop1 Test accuracy: 69.24072265625\tTop5 test acc: 98.232421875\n",
            "Epoch 55\tTop1 Train accuracy 72.98253631591797\tTop1 Test accuracy: 69.33349609375\tTop5 test acc: 98.19580078125\n",
            "Epoch 56\tTop1 Train accuracy 73.02159881591797\tTop1 Test accuracy: 69.3701171875\tTop5 test acc: 98.19580078125\n",
            "Epoch 57\tTop1 Train accuracy 73.09742736816406\tTop1 Test accuracy: 69.4140625\tTop5 test acc: 98.19580078125\n",
            "Epoch 58\tTop1 Train accuracy 73.19278717041016\tTop1 Test accuracy: 69.42626953125\tTop5 test acc: 98.2080078125\n",
            "Epoch 59\tTop1 Train accuracy 73.23184967041016\tTop1 Test accuracy: 69.5068359375\tTop5 test acc: 98.2080078125\n",
            "Epoch 60\tTop1 Train accuracy 73.30997467041016\tTop1 Test accuracy: 69.54345703125\tTop5 test acc: 98.2080078125\n",
            "Epoch 61\tTop1 Train accuracy 73.38809967041016\tTop1 Test accuracy: 69.64111328125\tTop5 test acc: 98.2080078125\n",
            "Epoch 62\tTop1 Train accuracy 73.44669342041016\tTop1 Test accuracy: 69.7021484375\tTop5 test acc: 98.22021484375\n",
            "Epoch 63\tTop1 Train accuracy 73.58110809326172\tTop1 Test accuracy: 69.6826171875\tTop5 test acc: 98.24462890625\n",
            "Epoch 64\tTop1 Train accuracy 73.77642059326172\tTop1 Test accuracy: 69.6826171875\tTop5 test acc: 98.2568359375\n",
            "Epoch 65\tTop1 Train accuracy 73.83501434326172\tTop1 Test accuracy: 69.7509765625\tTop5 test acc: 98.26904296875\n",
            "Epoch 66\tTop1 Train accuracy 73.89360809326172\tTop1 Test accuracy: 69.775390625\tTop5 test acc: 98.26904296875\n",
            "Epoch 67\tTop1 Train accuracy 74.04985809326172\tTop1 Test accuracy: 69.88037109375\tTop5 test acc: 98.28125\n",
            "Epoch 68\tTop1 Train accuracy 74.10616302490234\tTop1 Test accuracy: 69.8681640625\tTop5 test acc: 98.28125\n",
            "Epoch 69\tTop1 Train accuracy 74.16704559326172\tTop1 Test accuracy: 69.892578125\tTop5 test acc: 98.28125\n",
            "Epoch 70\tTop1 Train accuracy 74.16475677490234\tTop1 Test accuracy: 69.89501953125\tTop5 test acc: 98.28125\n",
            "Epoch 71\tTop1 Train accuracy 74.18428802490234\tTop1 Test accuracy: 69.9267578125\tTop5 test acc: 98.3056640625\n",
            "Epoch 72\tTop1 Train accuracy 74.30147552490234\tTop1 Test accuracy: 70.0\tTop5 test acc: 98.3056640625\n",
            "Epoch 73\tTop1 Train accuracy 74.39913177490234\tTop1 Test accuracy: 69.98779296875\tTop5 test acc: 98.3056640625\n",
            "Epoch 74\tTop1 Train accuracy 74.43819427490234\tTop1 Test accuracy: 70.08544921875\tTop5 test acc: 98.3056640625\n",
            "Epoch 75\tTop1 Train accuracy 74.51631927490234\tTop1 Test accuracy: 70.10986328125\tTop5 test acc: 98.3056640625\n",
            "Epoch 76\tTop1 Train accuracy 74.59444427490234\tTop1 Test accuracy: 70.13427734375\tTop5 test acc: 98.3056640625\n",
            "Epoch 77\tTop1 Train accuracy 74.67256927490234\tTop1 Test accuracy: 70.146484375\tTop5 test acc: 98.3056640625\n",
            "Epoch 78\tTop1 Train accuracy 74.71163177490234\tTop1 Test accuracy: 70.08544921875\tTop5 test acc: 98.330078125\n",
            "Epoch 79\tTop1 Train accuracy 74.75069427490234\tTop1 Test accuracy: 70.10986328125\tTop5 test acc: 98.330078125\n",
            "Epoch 80\tTop1 Train accuracy 74.78975677490234\tTop1 Test accuracy: 70.1416015625\tTop5 test acc: 98.330078125\n",
            "Epoch 81\tTop1 Train accuracy 74.86788177490234\tTop1 Test accuracy: 70.166015625\tTop5 test acc: 98.34228515625\n",
            "Epoch 82\tTop1 Train accuracy 74.94600677490234\tTop1 Test accuracy: 70.20263671875\tTop5 test acc: 98.36669921875\n",
            "Epoch 83\tTop1 Train accuracy 75.02413177490234\tTop1 Test accuracy: 70.263671875\tTop5 test acc: 98.3544921875\n",
            "Epoch 84\tTop1 Train accuracy 75.1194839477539\tTop1 Test accuracy: 70.30029296875\tTop5 test acc: 98.36669921875\n",
            "Epoch 85\tTop1 Train accuracy 75.25390625\tTop1 Test accuracy: 70.30029296875\tTop5 test acc: 98.3544921875\n",
            "Epoch 86\tTop1 Train accuracy 75.33203125\tTop1 Test accuracy: 70.32470703125\tTop5 test acc: 98.3544921875\n",
            "Epoch 87\tTop1 Train accuracy 75.3125\tTop1 Test accuracy: 70.34423828125\tTop5 test acc: 98.3544921875\n",
            "Epoch 88\tTop1 Train accuracy 75.37109375\tTop1 Test accuracy: 70.361328125\tTop5 test acc: 98.3544921875\n",
            "Epoch 89\tTop1 Train accuracy 75.4296875\tTop1 Test accuracy: 70.4052734375\tTop5 test acc: 98.3544921875\n",
            "Epoch 90\tTop1 Train accuracy 75.41015625\tTop1 Test accuracy: 70.44189453125\tTop5 test acc: 98.3544921875\n",
            "Epoch 91\tTop1 Train accuracy 75.46875\tTop1 Test accuracy: 70.44189453125\tTop5 test acc: 98.36669921875\n",
            "Epoch 92\tTop1 Train accuracy 75.5078125\tTop1 Test accuracy: 70.46630859375\tTop5 test acc: 98.37890625\n",
            "Epoch 93\tTop1 Train accuracy 75.52734375\tTop1 Test accuracy: 70.4345703125\tTop5 test acc: 98.359375\n",
            "Epoch 94\tTop1 Train accuracy 75.60546875\tTop1 Test accuracy: 70.44677734375\tTop5 test acc: 98.37158203125\n",
            "Epoch 95\tTop1 Train accuracy 75.625\tTop1 Test accuracy: 70.478515625\tTop5 test acc: 98.37158203125\n",
            "Epoch 96\tTop1 Train accuracy 75.68359375\tTop1 Test accuracy: 70.51513671875\tTop5 test acc: 98.3837890625\n",
            "Epoch 97\tTop1 Train accuracy 75.625\tTop1 Test accuracy: 70.51513671875\tTop5 test acc: 98.3837890625\n",
            "Epoch 98\tTop1 Train accuracy 75.703125\tTop1 Test accuracy: 70.51513671875\tTop5 test acc: 98.3837890625\n",
            "Epoch 99\tTop1 Train accuracy 75.72265625\tTop1 Test accuracy: 70.52734375\tTop5 test acc: 98.3837890625\n"
          ]
        }
      ],
      "source": [
        "epochs = 100\n",
        "for epoch in range(epochs):\n",
        "  top1_train_accuracy = 0\n",
        "  for counter, (x_batch, y_batch) in enumerate(train_loader):\n",
        "    x_batch = x_batch.to(device)\n",
        "    y_batch = y_batch.to(device)\n",
        "\n",
        "    logits = model(x_batch)\n",
        "    loss = criterion(logits, y_batch)\n",
        "    top1 = accuracy(logits, y_batch, topk=(1,))\n",
        "    top1_train_accuracy += top1[0]\n",
        "\n",
        "    optimizer.zero_grad()\n",
        "    loss.backward()\n",
        "    optimizer.step()\n",
        "\n",
        "  top1_train_accuracy /= (counter + 1)\n",
        "  top1_accuracy = 0\n",
        "  top5_accuracy = 0\n",
        "  for counter, (x_batch, y_batch) in enumerate(test_loader):\n",
        "    x_batch = x_batch.to(device)\n",
        "    y_batch = y_batch.to(device)\n",
        "\n",
        "    logits = model(x_batch)\n",
        "  \n",
        "    top1, top5 = accuracy(logits, y_batch, topk=(1,5))\n",
        "    top1_accuracy += top1[0]\n",
        "    top5_accuracy += top5[0]\n",
        "  \n",
        "  top1_accuracy /= (counter + 1)\n",
        "  top5_accuracy /= (counter + 1)\n",
        "  print(f\"Epoch {epoch}\\tTop1 Train accuracy {top1_train_accuracy.item()}\\tTop1 Test accuracy: {top1_accuracy.item()}\\tTop5 test acc: {top5_accuracy.item()}\")"
      ]
    },
    {
      "cell_type": "code",
      "execution_count": 37,
      "metadata": {
        "id": "dtYqHZirMNZk"
      },
      "outputs": [
        {
          "name": "stdout",
          "output_type": "stream",
          "text": [
            "top1 accuracy: 70.52734 2.319002\n",
            "top5 accuracy: 98.38379 0.5431786\n"
          ]
        }
      ],
      "source": [
        "top1_accuracy = []\n",
        "top5_accuracy = []\n",
        "for counter, (x_batch, y_batch) in enumerate(test_loader):\n",
        "    x_batch = x_batch.to(device)\n",
        "    y_batch = y_batch.to(device)\n",
        "\n",
        "    logits = model(x_batch)\n",
        "  \n",
        "    top1, top5 = accuracy(logits, y_batch, topk=(1,5))\n",
        "    top1_accuracy.append(top1[0].cpu().numpy())\n",
        "    top5_accuracy.append(top5[0].cpu().numpy())\n",
        "\n",
        "print(\"top1 accuracy:\", np.mean(top1_accuracy), np.std(top1_accuracy))\n",
        "print(\"top5 accuracy:\", np.mean(top5_accuracy), np.std(top5_accuracy))\n"
      ]
    },
    {
      "cell_type": "code",
      "execution_count": 27,
      "metadata": {},
      "outputs": [],
      "source": [
        "ckpt_name = 'resnet18_stl10-stl10' # resnet18_stl10-stl10\n",
        "torch.save(model.state_dict(), f'weights/{ckpt_name}.pth')\n"
      ]
    }
  ],
  "metadata": {
    "accelerator": "GPU",
    "colab": {
      "include_colab_link": true,
      "name": "Copy of mini-batch-logistic-regression-evaluator.ipynb",
      "provenance": []
    },
    "kernelspec": {
      "display_name": "torch_2.0",
      "language": "python",
      "name": "python3"
    },
    "language_info": {
      "codemirror_mode": {
        "name": "ipython",
        "version": 3
      },
      "file_extension": ".py",
      "mimetype": "text/x-python",
      "name": "python",
      "nbconvert_exporter": "python",
      "pygments_lexer": "ipython3",
      "version": "3.10.13"
    },
    "widgets": {
      "application/vnd.jupyter.widget-state+json": {
        "149b9ce8fb68473a837a77431c12281a": {
          "model_module": "@jupyter-widgets/controls",
          "model_name": "HBoxModel",
          "state": {
            "_dom_classes": [],
            "_model_module": "@jupyter-widgets/controls",
            "_model_module_version": "1.5.0",
            "_model_name": "HBoxModel",
            "_view_count": null,
            "_view_module": "@jupyter-widgets/controls",
            "_view_module_version": "1.5.0",
            "_view_name": "HBoxView",
            "box_style": "",
            "children": [
              "IPY_MODEL_a88c31d74f5c40a2b24bcff5a35d216c",
              "IPY_MODEL_60c6150177694717a622936b830427b5"
            ],
            "layout": "IPY_MODEL_88cd3db2831e4c13a4a634709700d6b2"
          }
        },
        "5901c2829a554c8ebbd5926610088041": {
          "model_module": "@jupyter-widgets/base",
          "model_name": "LayoutModel",
          "state": {
            "_model_module": "@jupyter-widgets/base",
            "_model_module_version": "1.2.0",
            "_model_name": "LayoutModel",
            "_view_count": null,
            "_view_module": "@jupyter-widgets/base",
            "_view_module_version": "1.2.0",
            "_view_name": "LayoutView",
            "align_content": null,
            "align_items": null,
            "align_self": null,
            "border": null,
            "bottom": null,
            "display": null,
            "flex": null,
            "flex_flow": null,
            "grid_area": null,
            "grid_auto_columns": null,
            "grid_auto_flow": null,
            "grid_auto_rows": null,
            "grid_column": null,
            "grid_gap": null,
            "grid_row": null,
            "grid_template_areas": null,
            "grid_template_columns": null,
            "grid_template_rows": null,
            "height": null,
            "justify_content": null,
            "justify_items": null,
            "left": null,
            "margin": null,
            "max_height": null,
            "max_width": null,
            "min_height": null,
            "min_width": null,
            "object_fit": null,
            "object_position": null,
            "order": null,
            "overflow": null,
            "overflow_x": null,
            "overflow_y": null,
            "padding": null,
            "right": null,
            "top": null,
            "visibility": null,
            "width": null
          }
        },
        "60c6150177694717a622936b830427b5": {
          "model_module": "@jupyter-widgets/controls",
          "model_name": "HTMLModel",
          "state": {
            "_dom_classes": [],
            "_model_module": "@jupyter-widgets/controls",
            "_model_module_version": "1.5.0",
            "_model_name": "HTMLModel",
            "_view_count": null,
            "_view_module": "@jupyter-widgets/controls",
            "_view_module_version": "1.5.0",
            "_view_name": "HTMLView",
            "description": "",
            "description_tooltip": null,
            "layout": "IPY_MODEL_a4f82234388e4701a02a9f68a177193a",
            "placeholder": "​",
            "style": "IPY_MODEL_957362a11d174407979cf17012bf9208",
            "value": " 2640404480/? [00:51&lt;00:00, 32685718.58it/s]"
          }
        },
        "88cd3db2831e4c13a4a634709700d6b2": {
          "model_module": "@jupyter-widgets/base",
          "model_name": "LayoutModel",
          "state": {
            "_model_module": "@jupyter-widgets/base",
            "_model_module_version": "1.2.0",
            "_model_name": "LayoutModel",
            "_view_count": null,
            "_view_module": "@jupyter-widgets/base",
            "_view_module_version": "1.2.0",
            "_view_name": "LayoutView",
            "align_content": null,
            "align_items": null,
            "align_self": null,
            "border": null,
            "bottom": null,
            "display": null,
            "flex": null,
            "flex_flow": null,
            "grid_area": null,
            "grid_auto_columns": null,
            "grid_auto_flow": null,
            "grid_auto_rows": null,
            "grid_column": null,
            "grid_gap": null,
            "grid_row": null,
            "grid_template_areas": null,
            "grid_template_columns": null,
            "grid_template_rows": null,
            "height": null,
            "justify_content": null,
            "justify_items": null,
            "left": null,
            "margin": null,
            "max_height": null,
            "max_width": null,
            "min_height": null,
            "min_width": null,
            "object_fit": null,
            "object_position": null,
            "order": null,
            "overflow": null,
            "overflow_x": null,
            "overflow_y": null,
            "padding": null,
            "right": null,
            "top": null,
            "visibility": null,
            "width": null
          }
        },
        "957362a11d174407979cf17012bf9208": {
          "model_module": "@jupyter-widgets/controls",
          "model_name": "DescriptionStyleModel",
          "state": {
            "_model_module": "@jupyter-widgets/controls",
            "_model_module_version": "1.5.0",
            "_model_name": "DescriptionStyleModel",
            "_view_count": null,
            "_view_module": "@jupyter-widgets/base",
            "_view_module_version": "1.2.0",
            "_view_name": "StyleView",
            "description_width": ""
          }
        },
        "a4f82234388e4701a02a9f68a177193a": {
          "model_module": "@jupyter-widgets/base",
          "model_name": "LayoutModel",
          "state": {
            "_model_module": "@jupyter-widgets/base",
            "_model_module_version": "1.2.0",
            "_model_name": "LayoutModel",
            "_view_count": null,
            "_view_module": "@jupyter-widgets/base",
            "_view_module_version": "1.2.0",
            "_view_name": "LayoutView",
            "align_content": null,
            "align_items": null,
            "align_self": null,
            "border": null,
            "bottom": null,
            "display": null,
            "flex": null,
            "flex_flow": null,
            "grid_area": null,
            "grid_auto_columns": null,
            "grid_auto_flow": null,
            "grid_auto_rows": null,
            "grid_column": null,
            "grid_gap": null,
            "grid_row": null,
            "grid_template_areas": null,
            "grid_template_columns": null,
            "grid_template_rows": null,
            "height": null,
            "justify_content": null,
            "justify_items": null,
            "left": null,
            "margin": null,
            "max_height": null,
            "max_width": null,
            "min_height": null,
            "min_width": null,
            "object_fit": null,
            "object_position": null,
            "order": null,
            "overflow": null,
            "overflow_x": null,
            "overflow_y": null,
            "padding": null,
            "right": null,
            "top": null,
            "visibility": null,
            "width": null
          }
        },
        "a88c31d74f5c40a2b24bcff5a35d216c": {
          "model_module": "@jupyter-widgets/controls",
          "model_name": "FloatProgressModel",
          "state": {
            "_dom_classes": [],
            "_model_module": "@jupyter-widgets/controls",
            "_model_module_version": "1.5.0",
            "_model_name": "FloatProgressModel",
            "_view_count": null,
            "_view_module": "@jupyter-widgets/controls",
            "_view_module_version": "1.5.0",
            "_view_name": "ProgressView",
            "bar_style": "info",
            "description": "",
            "description_tooltip": null,
            "layout": "IPY_MODEL_5901c2829a554c8ebbd5926610088041",
            "max": 1,
            "min": 0,
            "orientation": "horizontal",
            "style": "IPY_MODEL_dba019efadee4fdc8c799f309b9a7e70",
            "value": 1
          }
        },
        "dba019efadee4fdc8c799f309b9a7e70": {
          "model_module": "@jupyter-widgets/controls",
          "model_name": "ProgressStyleModel",
          "state": {
            "_model_module": "@jupyter-widgets/controls",
            "_model_module_version": "1.5.0",
            "_model_name": "ProgressStyleModel",
            "_view_count": null,
            "_view_module": "@jupyter-widgets/base",
            "_view_module_version": "1.2.0",
            "_view_name": "StyleView",
            "bar_color": null,
            "description_width": "initial"
          }
        }
      }
    }
  },
  "nbformat": 4,
  "nbformat_minor": 0
}
