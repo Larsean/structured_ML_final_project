{
 "cells": [
  {
   "cell_type": "code",
   "execution_count": 29,
   "metadata": {},
   "outputs": [],
   "source": [
    "from torchvision import datasets, transforms as Transforms\n",
    "\n",
    "class ContrastiveLearningViewGenerator(object):\n",
    "    \"\"\"Take two random crops of one image as the query and key.\"\"\"\n",
    "\n",
    "    def __init__(self, base_transform, n_views=2):\n",
    "        self.base_transform = base_transform\n",
    "        self.n_views = n_views\n",
    "\n",
    "    def __call__(self, x):\n",
    "        return [self.base_transform(x) for i in range(self.n_views)]\n",
    "\n",
    "def get_moco_transforms(net_type='encoder_train', resize=96, crop=96):\n",
    "    transform_list = []\n",
    "    if net_type == 'encoder_train':\n",
    "        transform_list += [Transforms.RandomResizedCrop(size=crop),\n",
    "                            Transforms.ColorJitter(0.1, 0.1, 0.1),\n",
    "                            Transforms.RandomHorizontalFlip(),\n",
    "                            Transforms.RandomGrayscale()]\n",
    "    elif net_type == 'classifier_train':\n",
    "        transform_list += [Transforms.Resize(size=resize),\n",
    "                            Transforms.RandomCrop(size=crop),\n",
    "                            Transforms.RandomHorizontalFlip()]\n",
    "    elif net_type == 'classifier_test':\n",
    "        transform_list += [Transforms.Resize(size=resize),\n",
    "                            Transforms.CenterCrop(size=crop)]\n",
    "\n",
    "    transform_list += [Transforms.ToTensor(),\n",
    "                        Transforms.Normalize(mean=(0.5, 0.5, 0.5),\n",
    "                                            std=(0.5, 0.5, 0.5))]\n",
    "\n",
    "    transform = Transforms.Compose(transform_list)\n",
    "    return transform\n",
    "\n",
    "\n",
    "stl10_dest_pth = r'E:\\YuChe\\MS\\structured_ML\\SimCLR\\datasets'\n",
    "\n",
    "# dset = datasets.STL10(root=stl10_dest_pth, split='train', download=False)\n",
    "dset = datasets.STL10(root=stl10_dest_pth, split='train', transform=ContrastiveLearningViewGenerator(\n",
    "                                                              get_moco_transforms(96)), download=False)\n"
   ]
  },
  {
   "cell_type": "code",
   "execution_count": 5,
   "metadata": {},
   "outputs": [
    {
     "data": {
      "text/plain": [
       "3"
      ]
     },
     "execution_count": 5,
     "metadata": {},
     "output_type": "execute_result"
    }
   ],
   "source": [
    "import torch\n",
    "\n",
    "tensor = torch.tensor([0,1], dtype=torch.long)\n",
    "tensor = torch.nn.functional.one_hot(tensor.type(torch.int64), 3).type(torch.float64)\n",
    "tensor.size(1)\n"
   ]
  },
  {
   "cell_type": "markdown",
   "metadata": {},
   "source": [
    "### feature eval"
   ]
  },
  {
   "cell_type": "code",
   "execution_count": 1,
   "metadata": {},
   "outputs": [],
   "source": [
    "import os\n",
    "\n",
    "import torch\n",
    "import torch.nn as nn\n",
    "\n",
    "import model\n",
    "from dataloader import data_loader\n",
    "from metric import eval_metric, accuracy, f1_score"
   ]
  },
  {
   "cell_type": "code",
   "execution_count": 3,
   "metadata": {},
   "outputs": [
    {
     "name": "stdout",
     "output_type": "stream",
     "text": [
      "Model loaded\n"
     ]
    }
   ],
   "source": [
    "dev = 'cuda' if torch.cuda.is_available() else 'cpu'\n",
    "batch_size = 1024\n",
    "exp_version = 'v3'\n",
    "\n",
    "## Load the model\n",
    "Encoder_weight_path = os.path.join('./output/Stl-10', f'bz{batch_size}', exp_version, 'weight', 'ckpt_199.pkl')\n",
    "Encoder_ckpt = torch.load(Encoder_weight_path)\n",
    "Linear_weight_path = os.path.join('./output/Stl-10', f'bz{batch_size}', exp_version, 'eval/weight', 'ckpt_99.pkl') # TODO: change to the best weight\n",
    "Linear_ckpt = torch.load(Linear_weight_path)\n",
    "\n",
    "encoder = nn.DataParallel(model.Resnet50(dim=128)).to(dev)\n",
    "encoder.load_state_dict(Encoder_ckpt['encoder'], strict=False)\n",
    "feature_extractor = nn.Sequential(*list(encoder.module.resnet.children())[:-1]) # feature extractor from encoder\n",
    "\n",
    "linear = nn.Linear(2048, 10).to(dev) # linear classifier\n",
    "linear.load_state_dict(Linear_ckpt)\n",
    "print('Model loaded')\n"
   ]
  },
  {
   "cell_type": "code",
   "execution_count": 4,
   "metadata": {},
   "outputs": [
    {
     "name": "stdout",
     "output_type": "stream",
     "text": [
      "Data loaded\n"
     ]
    }
   ],
   "source": [
    "## load the data\n",
    "tst_dloader, tst_dlen = data_loader(dataset_root='', # dataset root is not needed\n",
    "                                    resize=84, \n",
    "                                    crop=64,\n",
    "                                    batch_size=100,\n",
    "                                    num_workers=16,\n",
    "                                    type='classifier_test')\n",
    "print('Data loaded')"
   ]
  },
  {
   "cell_type": "code",
   "execution_count": 5,
   "metadata": {},
   "outputs": [
    {
     "name": "stdout",
     "output_type": "stream",
     "text": [
      "Batch 80/80\r"
     ]
    }
   ],
   "source": [
    "\n",
    "def cm_metric(output, target, topk=(1,)):\n",
    "    \"\"\"\n",
    "        output: model output, shape: (B, num_classes)\n",
    "        target: ground truth label, shape: (B,)\n",
    "    Computes the top_k accuracy and f1_score for each class.\"\"\"\n",
    "    output = output.to('cpu')\n",
    "    target = target.to('cpu')\n",
    "    acc = accuracy(output, target, topk)\n",
    "    f1 = f1_score(output, target)\n",
    "    return acc, f1\n",
    "\n",
    "sampling_times = 5\n",
    "history = {'acc': [], 'f1': []}\n",
    "with torch.no_grad():\n",
    "    for _ in range(sampling_times):\n",
    "        for idx, (img, label) in enumerate(tst_dloader):\n",
    "            print(f'Batch {idx+1}/{tst_dlen/100:.0f}', end='\\r')\n",
    "            img = img.to(dev)\n",
    "            label = label.to(dev)\n",
    "            feature = feature_extractor(img)\n",
    "            score = linear(feature.view(feature.size(0), feature.size(1)))\n",
    "            \n",
    "            acc, f1 = cm_metric(score, label, topk=(1, 5))\n",
    "            history['acc'].append(acc)\n",
    "            history['f1'].append(f1)"
   ]
  },
  {
   "cell_type": "code",
   "execution_count": 7,
   "metadata": {},
   "outputs": [
    {
     "name": "stdout",
     "output_type": "stream",
     "text": [
      "- Top-1 Acc: $62.84 \\pm 5.14$\n",
      "- Top-5 Acc: $96.97 \\pm 1.78$\n",
      "- F1-0: $72.75 \\pm 12.89$\n",
      "- F1-1: $57.51 \\pm 13.96$\n",
      "- F1-2: $72.82 \\pm 11.69$\n",
      "- F1-3: $46.46 \\pm 14.44$\n",
      "- F1-4: $57.35 \\pm 12.90$\n",
      "- F1-5: $46.04 \\pm 14.76$\n",
      "- F1-6: $66.54 \\pm 12.85$\n",
      "- F1-7: $57.50 \\pm 13.95$\n",
      "- F1-8: $77.09 \\pm 10.66$\n",
      "- F1-9: $64.29 \\pm 12.86$\n"
     ]
    }
   ],
   "source": [
    "from torch import tensor\n",
    "Acc, F1_score = torch.stack([tensor(acc) for acc in history['acc']]), torch.stack([tensor(f1) for f1 in history['f1']])\n",
    "\n",
    "print('- Top-1 Acc: ${:.2f} \\pm {:.2f}$'.format(Acc[:, 0].mean().item(), Acc[:, 0].std().item()))\n",
    "print('- Top-5 Acc: ${:.2f} \\pm {:.2f}$'.format(Acc[:, 1].mean().item(), Acc[:, 1].std().item()))\n",
    "\n",
    "for cls_id in range(F1_score.size(1)):\n",
    "    # print('Class {}: {:.2f} +/- {:.2f}'.format(cls_id, F1_score[:, cls_id].mean().item()*100, F1_score[:, cls_id].std().item()*100))\n",
    "    print('- F1-{}: ${:.2f} \\pm {:.2f}$'.format(cls_id, F1_score[:, cls_id].mean().item()*100, F1_score[:, cls_id].std().item()*100))\n"
   ]
  },
  {
   "cell_type": "code",
   "execution_count": 77,
   "metadata": {},
   "outputs": [
    {
     "data": {
      "text/plain": [
       "tensor([0, 1, 2, 3, 4, 5, 6, 7, 8])"
      ]
     },
     "execution_count": 77,
     "metadata": {},
     "output_type": "execute_result"
    }
   ],
   "source": [
    "x_k = torch.arange(0, 9)\n",
    "idx = torch.randperm(x_k.size(0))\n",
    "x_k = x_k[idx]\n",
    "inv_idx = torch.argsort(idx)\n",
    "\n",
    "x_k[inv_idx]"
   ]
  }
 ],
 "metadata": {
  "kernelspec": {
   "display_name": "torch_2.0",
   "language": "python",
   "name": "python3"
  },
  "language_info": {
   "codemirror_mode": {
    "name": "ipython",
    "version": 3
   },
   "file_extension": ".py",
   "mimetype": "text/x-python",
   "name": "python",
   "nbconvert_exporter": "python",
   "pygments_lexer": "ipython3",
   "version": "3.10.13"
  }
 },
 "nbformat": 4,
 "nbformat_minor": 2
}
